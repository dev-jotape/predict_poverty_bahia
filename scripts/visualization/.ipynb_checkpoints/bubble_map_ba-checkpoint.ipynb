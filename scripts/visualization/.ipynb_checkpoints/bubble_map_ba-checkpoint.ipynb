{
 "cells": [
  {
   "cell_type": "code",
   "execution_count": 2,
   "metadata": {},
   "outputs": [],
   "source": [
    "import pandas as pd\n",
    "import numpy as np\n",
    "import geopandas as gpd\n",
    "import matplotlib.pyplot as plt\n",
    "# import plotly_express as px\n",
    "# import gmaps \n",
    "# import gmaps.datasets \n",
    "import matplotlib.pyplot as plt\n",
    "from scipy.stats.mstats import winsorize\n",
    "\n"
   ]
  },
  {
   "cell_type": "code",
   "execution_count": 3,
   "metadata": {},
   "outputs": [
    {
     "data": {
      "text/html": [
       "<div>\n",
       "<style scoped>\n",
       "    .dataframe tbody tr th:only-of-type {\n",
       "        vertical-align: middle;\n",
       "    }\n",
       "\n",
       "    .dataframe tbody tr th {\n",
       "        vertical-align: top;\n",
       "    }\n",
       "\n",
       "    .dataframe thead th {\n",
       "        text-align: right;\n",
       "    }\n",
       "</style>\n",
       "<table border=\"1\" class=\"dataframe\">\n",
       "  <thead>\n",
       "    <tr style=\"text-align: right;\">\n",
       "      <th></th>\n",
       "      <th>lat</th>\n",
       "      <th>long</th>\n",
       "      <th>radiance</th>\n",
       "      <th>city</th>\n",
       "      <th>city_code</th>\n",
       "      <th>dist_to_city</th>\n",
       "    </tr>\n",
       "  </thead>\n",
       "  <tbody>\n",
       "    <tr>\n",
       "      <th>0</th>\n",
       "      <td>-8.533333</td>\n",
       "      <td>-39.383333</td>\n",
       "      <td>0.116815</td>\n",
       "      <td>CURAÇÁ</td>\n",
       "      <td>2909901</td>\n",
       "      <td>0.694998</td>\n",
       "    </tr>\n",
       "    <tr>\n",
       "      <th>1</th>\n",
       "      <td>-8.533333</td>\n",
       "      <td>-39.379167</td>\n",
       "      <td>0.103567</td>\n",
       "      <td>CURAÇÁ</td>\n",
       "      <td>2909901</td>\n",
       "      <td>0.698149</td>\n",
       "    </tr>\n",
       "    <tr>\n",
       "      <th>2</th>\n",
       "      <td>-8.537500</td>\n",
       "      <td>-39.395833</td>\n",
       "      <td>0.880825</td>\n",
       "      <td>CURAÇÁ</td>\n",
       "      <td>2909901</td>\n",
       "      <td>0.682846</td>\n",
       "    </tr>\n",
       "    <tr>\n",
       "      <th>3</th>\n",
       "      <td>-8.537500</td>\n",
       "      <td>-39.391667</td>\n",
       "      <td>0.184479</td>\n",
       "      <td>CURAÇÁ</td>\n",
       "      <td>2909901</td>\n",
       "      <td>0.685978</td>\n",
       "    </tr>\n",
       "    <tr>\n",
       "      <th>4</th>\n",
       "      <td>-8.537500</td>\n",
       "      <td>-39.387500</td>\n",
       "      <td>0.136107</td>\n",
       "      <td>CURAÇÁ</td>\n",
       "      <td>2909901</td>\n",
       "      <td>0.689120</td>\n",
       "    </tr>\n",
       "    <tr>\n",
       "      <th>...</th>\n",
       "      <td>...</td>\n",
       "      <td>...</td>\n",
       "      <td>...</td>\n",
       "      <td>...</td>\n",
       "      <td>...</td>\n",
       "      <td>...</td>\n",
       "    </tr>\n",
       "    <tr>\n",
       "      <th>2706401</th>\n",
       "      <td>-17.995833</td>\n",
       "      <td>-39.637500</td>\n",
       "      <td>0.024543</td>\n",
       "      <td>NOVA VIÇOSA</td>\n",
       "      <td>2923001</td>\n",
       "      <td>0.284567</td>\n",
       "    </tr>\n",
       "    <tr>\n",
       "      <th>2706402</th>\n",
       "      <td>-17.995833</td>\n",
       "      <td>-39.633333</td>\n",
       "      <td>0.013221</td>\n",
       "      <td>NOVA VIÇOSA</td>\n",
       "      <td>2923001</td>\n",
       "      <td>0.280684</td>\n",
       "    </tr>\n",
       "    <tr>\n",
       "      <th>2706403</th>\n",
       "      <td>-17.995833</td>\n",
       "      <td>-39.491667</td>\n",
       "      <td>0.020918</td>\n",
       "      <td>NOVA VIÇOSA</td>\n",
       "      <td>2923001</td>\n",
       "      <td>0.157517</td>\n",
       "    </tr>\n",
       "    <tr>\n",
       "      <th>2706404</th>\n",
       "      <td>-18.000000</td>\n",
       "      <td>-39.641667</td>\n",
       "      <td>0.041632</td>\n",
       "      <td>NOVA VIÇOSA</td>\n",
       "      <td>2923001</td>\n",
       "      <td>0.289964</td>\n",
       "    </tr>\n",
       "    <tr>\n",
       "      <th>2706405</th>\n",
       "      <td>-18.000000</td>\n",
       "      <td>-39.637500</td>\n",
       "      <td>0.035396</td>\n",
       "      <td>NOVA VIÇOSA</td>\n",
       "      <td>2923001</td>\n",
       "      <td>0.286093</td>\n",
       "    </tr>\n",
       "  </tbody>\n",
       "</table>\n",
       "<p>2706406 rows × 6 columns</p>\n",
       "</div>"
      ],
      "text/plain": [
       "               lat       long  radiance         city  city_code  dist_to_city\n",
       "0        -8.533333 -39.383333  0.116815       CURAÇÁ    2909901      0.694998\n",
       "1        -8.533333 -39.379167  0.103567       CURAÇÁ    2909901      0.698149\n",
       "2        -8.537500 -39.395833  0.880825       CURAÇÁ    2909901      0.682846\n",
       "3        -8.537500 -39.391667  0.184479       CURAÇÁ    2909901      0.685978\n",
       "4        -8.537500 -39.387500  0.136107       CURAÇÁ    2909901      0.689120\n",
       "...            ...        ...       ...          ...        ...           ...\n",
       "2706401 -17.995833 -39.637500  0.024543  NOVA VIÇOSA    2923001      0.284567\n",
       "2706402 -17.995833 -39.633333  0.013221  NOVA VIÇOSA    2923001      0.280684\n",
       "2706403 -17.995833 -39.491667  0.020918  NOVA VIÇOSA    2923001      0.157517\n",
       "2706404 -18.000000 -39.641667  0.041632  NOVA VIÇOSA    2923001      0.289964\n",
       "2706405 -18.000000 -39.637500  0.035396  NOVA VIÇOSA    2923001      0.286093\n",
       "\n",
       "[2706406 rows x 6 columns]"
      ]
     },
     "execution_count": 3,
     "metadata": {},
     "output_type": "execute_result"
    }
   ],
   "source": [
    "gdf = gpd.read_file('../../input/shapes/BA/29MUE250GC_SIR.shp')\n",
    "all_nighttime_lights = pd.read_csv('../../model/coordinates_with_distances.csv')\n",
    "all_nighttime_lights"
   ]
  },
  {
   "cell_type": "markdown",
   "metadata": {},
   "source": [
    "WINSORIZATION - DETECT OUTLIERS"
   ]
  },
  {
   "cell_type": "code",
   "execution_count": 4,
   "metadata": {},
   "outputs": [
    {
     "name": "stderr",
     "output_type": "stream",
     "text": [
      "/var/folders/fx/kx7__pwn2tv9449n14s5rx1w0000gn/T/ipykernel_93443/1034114147.py:2: SettingWithCopyWarning: \n",
      "A value is trying to be set on a copy of a slice from a DataFrame.\n",
      "Try using .loc[row_indexer,col_indexer] = value instead\n",
      "\n",
      "See the caveats in the documentation: https://pandas.pydata.org/pandas-docs/stable/user_guide/indexing.html#returning-a-view-versus-a-copy\n",
      "  all_nighttime_lights['w_radiance'] = winsorize(all_nighttime_lights['radiance'],(0.05,0.05))\n"
     ]
    }
   ],
   "source": [
    "all_nighttime_lights = all_nighttime_lights[all_nighttime_lights['radiance'] > 0]\n",
    "all_nighttime_lights['w_radiance'] = winsorize(all_nighttime_lights['radiance'],(0.05,0.05))"
   ]
  },
  {
   "cell_type": "markdown",
   "metadata": {},
   "source": [
    "W-RADIANCE MAP"
   ]
  },
  {
   "cell_type": "code",
   "execution_count": 5,
   "metadata": {},
   "outputs": [],
   "source": [
    "all_gdf_points = gpd.GeoDataFrame(\n",
    "      all_nighttime_lights, geometry=gpd.points_from_xy(all_nighttime_lights.long, all_nighttime_lights.lat))\n",
    "all_gdf_points.sort_values(by='w_radiance', ascending=True, inplace=True)"
   ]
  },
  {
   "cell_type": "code",
   "execution_count": null,
   "metadata": {},
   "outputs": [
    {
     "name": "stderr",
     "output_type": "stream",
     "text": [
      "/var/folders/fx/kx7__pwn2tv9449n14s5rx1w0000gn/T/ipykernel_93443/2522895107.py:15: MatplotlibDeprecationWarning: Unable to determine Axes to steal space for Colorbar. Using gca(), but will raise in the future. Either provide the *cax* argument to use as the Axes for the Colorbar, provide the *ax* argument to steal space from it, or add *mappable* to an Axes.\n",
      "  cbar = fig.colorbar(sm)\n"
     ]
    }
   ],
   "source": [
    "\n",
    "fig, ax = plt.subplots(figsize=(16,16))\n",
    "gdf.plot(ax=ax, color=\"lightgray\", edgecolor=\"grey\", linewidth=0.4)\n",
    "all_gdf_points.plot(column='w_radiance', \n",
    "                  ax=ax,\n",
    "                  cmap=plt.get_cmap(\"hot_r\"),\n",
    "                  markersize=2)\n",
    "\n",
    "ax.axis('off')\n",
    "vmin = all_gdf_points['w_radiance'].min()\n",
    "vmax = all_gdf_points['w_radiance'].max()\n",
    "\n",
    "# Create colorbar\n",
    "sm = plt.cm.ScalarMappable(cmap=plt.get_cmap(\"hot_r\"), norm=plt.Normalize(vmin=vmin, vmax=vmax))\n",
    "sm._A = []\n",
    "cbar = fig.colorbar(sm)"
   ]
  },
  {
   "cell_type": "code",
   "execution_count": null,
   "metadata": {},
   "outputs": [],
   "source": [
    "# TODO:\n",
    "# - hotmap ideal sobre luz noturna\n",
    "# - hotmap sobre pib\n",
    "# - hotap sobre populacao\n",
    "# - hotmap sobre income"
   ]
  }
 ],
 "metadata": {
  "kernelspec": {
   "display_name": "Python 3 (ipykernel)",
   "language": "python",
   "name": "python3"
  },
  "language_info": {
   "codemirror_mode": {
    "name": "ipython",
    "version": 3
   },
   "file_extension": ".py",
   "mimetype": "text/x-python",
   "name": "python",
   "nbconvert_exporter": "python",
   "pygments_lexer": "ipython3",
   "version": "3.8.13"
  },
  "vscode": {
   "interpreter": {
    "hash": "148cbe66a39967f6672c6ba18adbe49ffd9145969f95738e1156ff4ab61e1cbb"
   }
  }
 },
 "nbformat": 4,
 "nbformat_minor": 2
}
