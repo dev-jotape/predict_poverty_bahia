{
 "cells": [
  {
   "cell_type": "code",
   "execution_count": 1,
   "metadata": {},
   "outputs": [],
   "source": [
    "import rioxarray"
   ]
  },
  {
   "cell_type": "code",
   "execution_count": 2,
   "metadata": {},
   "outputs": [],
   "source": [
    "rds = rioxarray.open_rasterio(\"../input/nighttime_lights_2016.tif\")\n",
    "rds.name = \"data\""
   ]
  },
  {
   "cell_type": "code",
   "execution_count": 3,
   "metadata": {},
   "outputs": [],
   "source": [
    "df = rds.squeeze().to_dataframe().reset_index()"
   ]
  },
  {
   "cell_type": "code",
   "execution_count": 8,
   "metadata": {},
   "outputs": [],
   "source": [
    "## y = lat\n",
    "## x = long\n",
    "## lat bahia -8, -19\n",
    "## long bahia -47, -37\n",
    "\n",
    "# df = df[(df.y > -34.0) & (df.x < -33.0)]\n",
    "df = df[((df.y < -8.00) & (df.y > -19.00)) & ((df.x < -37.00) & (df.x > -47.00))]"
   ]
  },
  {
   "cell_type": "code",
   "execution_count": 10,
   "metadata": {},
   "outputs": [
    {
     "data": {
      "text/html": [
       "<div>\n",
       "<style scoped>\n",
       "    .dataframe tbody tr th:only-of-type {\n",
       "        vertical-align: middle;\n",
       "    }\n",
       "\n",
       "    .dataframe tbody tr th {\n",
       "        vertical-align: top;\n",
       "    }\n",
       "\n",
       "    .dataframe thead th {\n",
       "        text-align: right;\n",
       "    }\n",
       "</style>\n",
       "<table border=\"1\" class=\"dataframe\">\n",
       "  <thead>\n",
       "    <tr style=\"text-align: right;\">\n",
       "      <th></th>\n",
       "      <th>lat</th>\n",
       "      <th>long</th>\n",
       "      <th>radiance</th>\n",
       "    </tr>\n",
       "  </thead>\n",
       "  <tbody>\n",
       "    <tr>\n",
       "      <th>55299120</th>\n",
       "      <td>-8.000000</td>\n",
       "      <td>-47.000000</td>\n",
       "      <td>0.027000</td>\n",
       "    </tr>\n",
       "    <tr>\n",
       "      <th>55299121</th>\n",
       "      <td>-8.000000</td>\n",
       "      <td>-46.995833</td>\n",
       "      <td>0.011034</td>\n",
       "    </tr>\n",
       "    <tr>\n",
       "      <th>55299122</th>\n",
       "      <td>-8.000000</td>\n",
       "      <td>-46.991667</td>\n",
       "      <td>0.005883</td>\n",
       "    </tr>\n",
       "    <tr>\n",
       "      <th>55299123</th>\n",
       "      <td>-8.000000</td>\n",
       "      <td>-46.987500</td>\n",
       "      <td>0.022931</td>\n",
       "    </tr>\n",
       "    <tr>\n",
       "      <th>55299124</th>\n",
       "      <td>-8.000000</td>\n",
       "      <td>-46.983333</td>\n",
       "      <td>0.011497</td>\n",
       "    </tr>\n",
       "    <tr>\n",
       "      <th>...</th>\n",
       "      <td>...</td>\n",
       "      <td>...</td>\n",
       "      <td>...</td>\n",
       "    </tr>\n",
       "    <tr>\n",
       "      <th>131304715</th>\n",
       "      <td>-18.995833</td>\n",
       "      <td>-37.020833</td>\n",
       "      <td>-0.045159</td>\n",
       "    </tr>\n",
       "    <tr>\n",
       "      <th>131304716</th>\n",
       "      <td>-18.995833</td>\n",
       "      <td>-37.016666</td>\n",
       "      <td>-0.030032</td>\n",
       "    </tr>\n",
       "    <tr>\n",
       "      <th>131304717</th>\n",
       "      <td>-18.995833</td>\n",
       "      <td>-37.012500</td>\n",
       "      <td>-0.027893</td>\n",
       "    </tr>\n",
       "    <tr>\n",
       "      <th>131304718</th>\n",
       "      <td>-18.995833</td>\n",
       "      <td>-37.008333</td>\n",
       "      <td>-0.056945</td>\n",
       "    </tr>\n",
       "    <tr>\n",
       "      <th>131304719</th>\n",
       "      <td>-18.995833</td>\n",
       "      <td>-37.004166</td>\n",
       "      <td>-0.041762</td>\n",
       "    </tr>\n",
       "  </tbody>\n",
       "</table>\n",
       "<p>6336000 rows × 3 columns</p>\n",
       "</div>"
      ],
      "text/plain": [
       "                 lat       long  radiance\n",
       "55299120   -8.000000 -47.000000  0.027000\n",
       "55299121   -8.000000 -46.995833  0.011034\n",
       "55299122   -8.000000 -46.991667  0.005883\n",
       "55299123   -8.000000 -46.987500  0.022931\n",
       "55299124   -8.000000 -46.983333  0.011497\n",
       "...              ...        ...       ...\n",
       "131304715 -18.995833 -37.020833 -0.045159\n",
       "131304716 -18.995833 -37.016666 -0.030032\n",
       "131304717 -18.995833 -37.012500 -0.027893\n",
       "131304718 -18.995833 -37.008333 -0.056945\n",
       "131304719 -18.995833 -37.004166 -0.041762\n",
       "\n",
       "[6336000 rows x 3 columns]"
      ]
     },
     "execution_count": 10,
     "metadata": {},
     "output_type": "execute_result"
    }
   ],
   "source": [
    "nighttime_lights = df[['y','x','data']].rename({'y':'lat', 'x':'long', 'data': 'radiance'}, axis=1)\n",
    "nighttime_lights"
   ]
  },
  {
   "cell_type": "code",
   "execution_count": 11,
   "metadata": {},
   "outputs": [],
   "source": [
    "nighttime_lights.to_csv('../model/nightlights_ba.csv', index=False)"
   ]
  }
 ],
 "metadata": {
  "kernelspec": {
   "display_name": "Python 3.8.13",
   "language": "python",
   "name": "python3"
  },
  "language_info": {
   "codemirror_mode": {
    "name": "ipython",
    "version": 3
   },
   "file_extension": ".py",
   "mimetype": "text/x-python",
   "name": "python",
   "nbconvert_exporter": "python",
   "pygments_lexer": "ipython3",
   "version": "3.8.13"
  },
  "orig_nbformat": 4,
  "vscode": {
   "interpreter": {
    "hash": "148cbe66a39967f6672c6ba18adbe49ffd9145969f95738e1156ff4ab61e1cbb"
   }
  }
 },
 "nbformat": 4,
 "nbformat_minor": 2
}
